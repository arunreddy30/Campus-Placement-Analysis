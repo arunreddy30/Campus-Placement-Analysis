{
 "cells": [
  {
   "cell_type": "code",
   "execution_count": 86,
   "metadata": {},
   "outputs": [],
   "source": [
    "import pandas as pd\n",
    "import ast\n",
    "from sklearn.model_selection import train_test_split, GridSearchCV\n",
    "from sklearn.ensemble import RandomForestClassifier, VotingClassifier\n",
    "from xgboost import XGBClassifier\n",
    "from sklearn.metrics import accuracy_score\n",
    "from sklearn.tree import DecisionTreeClassifier"
   ]
  },
  {
   "cell_type": "code",
   "execution_count": 87,
   "metadata": {},
   "outputs": [
    {
     "data": {
      "text/html": [
       "<div>\n",
       "<style scoped>\n",
       "    .dataframe tbody tr th:only-of-type {\n",
       "        vertical-align: middle;\n",
       "    }\n",
       "\n",
       "    .dataframe tbody tr th {\n",
       "        vertical-align: top;\n",
       "    }\n",
       "\n",
       "    .dataframe thead th {\n",
       "        text-align: right;\n",
       "    }\n",
       "</style>\n",
       "<table border=\"1\" class=\"dataframe\">\n",
       "  <thead>\n",
       "    <tr style=\"text-align: right;\">\n",
       "      <th></th>\n",
       "      <th>Registration Number</th>\n",
       "      <th>Name</th>\n",
       "      <th>CGPA</th>\n",
       "      <th>Projects</th>\n",
       "      <th>Internships</th>\n",
       "      <th>Courses</th>\n",
       "      <th>No_of_Certs</th>\n",
       "      <th>Certifications</th>\n",
       "      <th>LeetCode Score</th>\n",
       "      <th>Placement Status</th>\n",
       "      <th>Company Portfolio</th>\n",
       "      <th>10th Grade Percentage</th>\n",
       "      <th>12th Grade Percentage</th>\n",
       "      <th>CTC</th>\n",
       "      <th>IQ</th>\n",
       "      <th>Gender</th>\n",
       "      <th>Skills</th>\n",
       "      <th>Skill Score</th>\n",
       "    </tr>\n",
       "  </thead>\n",
       "  <tbody>\n",
       "    <tr>\n",
       "      <th>0</th>\n",
       "      <td>20CSE0092</td>\n",
       "      <td>Ashley Esparza</td>\n",
       "      <td>8.66</td>\n",
       "      <td>10</td>\n",
       "      <td>['UI Design']</td>\n",
       "      <td>['CSC Frontend', 'CSC Frontend', 'VLSI', 'Clou...</td>\n",
       "      <td>4</td>\n",
       "      <td>4</td>\n",
       "      <td>234</td>\n",
       "      <td>Not Placed</td>\n",
       "      <td>NaN</td>\n",
       "      <td>77</td>\n",
       "      <td>82</td>\n",
       "      <td>6 LPA</td>\n",
       "      <td>82</td>\n",
       "      <td>Female</td>\n",
       "      <td>['Java', 'Machine Learning', 'Web Development'...</td>\n",
       "      <td>4</td>\n",
       "    </tr>\n",
       "    <tr>\n",
       "      <th>1</th>\n",
       "      <td>20CSE0181</td>\n",
       "      <td>Jessica Jensen</td>\n",
       "      <td>6.35</td>\n",
       "      <td>3</td>\n",
       "      <td>['UI Design', 'ML/AI', 'Business Management']</td>\n",
       "      <td>['CSC Frontend', 'System Design']</td>\n",
       "      <td>2</td>\n",
       "      <td>5</td>\n",
       "      <td>23</td>\n",
       "      <td>Not Placed</td>\n",
       "      <td>NaN</td>\n",
       "      <td>97</td>\n",
       "      <td>63</td>\n",
       "      <td>1 CR LPA</td>\n",
       "      <td>104</td>\n",
       "      <td>Female</td>\n",
       "      <td>['Web Development', 'Database Management', 'Co...</td>\n",
       "      <td>10</td>\n",
       "    </tr>\n",
       "    <tr>\n",
       "      <th>2</th>\n",
       "      <td>20CSE0008</td>\n",
       "      <td>Miss Elizabeth Alvarez</td>\n",
       "      <td>6.32</td>\n",
       "      <td>5</td>\n",
       "      <td>['Cloud Engineer', 'ML/AI']</td>\n",
       "      <td>['Cloud Engineer', 'Chip Design']</td>\n",
       "      <td>2</td>\n",
       "      <td>2</td>\n",
       "      <td>487</td>\n",
       "      <td>Placed</td>\n",
       "      <td>DREAM</td>\n",
       "      <td>64</td>\n",
       "      <td>76</td>\n",
       "      <td>30 LPA</td>\n",
       "      <td>138</td>\n",
       "      <td>Male</td>\n",
       "      <td>['Database Management', 'Web Development', 'Py...</td>\n",
       "      <td>6</td>\n",
       "    </tr>\n",
       "    <tr>\n",
       "      <th>3</th>\n",
       "      <td>20EEE0190</td>\n",
       "      <td>Amanda Alexander</td>\n",
       "      <td>7.32</td>\n",
       "      <td>4</td>\n",
       "      <td>['Chip Design']</td>\n",
       "      <td>['Chip Design', 'ML Engineer']</td>\n",
       "      <td>2</td>\n",
       "      <td>2</td>\n",
       "      <td>63</td>\n",
       "      <td>Not Placed</td>\n",
       "      <td>NaN</td>\n",
       "      <td>67</td>\n",
       "      <td>74</td>\n",
       "      <td>20 LPA</td>\n",
       "      <td>134</td>\n",
       "      <td>Female</td>\n",
       "      <td>['Machine Learning']</td>\n",
       "      <td>4</td>\n",
       "    </tr>\n",
       "    <tr>\n",
       "      <th>4</th>\n",
       "      <td>20CSE0003</td>\n",
       "      <td>Douglas Gonzalez</td>\n",
       "      <td>8.57</td>\n",
       "      <td>6</td>\n",
       "      <td>['System Design', 'Hardware Engineer']</td>\n",
       "      <td>['Cloud Engineer', 'System Design', 'ML Engine...</td>\n",
       "      <td>3</td>\n",
       "      <td>9</td>\n",
       "      <td>36</td>\n",
       "      <td>Placed</td>\n",
       "      <td>DREAM</td>\n",
       "      <td>86</td>\n",
       "      <td>98</td>\n",
       "      <td>60 LPA</td>\n",
       "      <td>101</td>\n",
       "      <td>Female</td>\n",
       "      <td>['Web Development', 'Machine Learning', 'Python']</td>\n",
       "      <td>4</td>\n",
       "    </tr>\n",
       "  </tbody>\n",
       "</table>\n",
       "</div>"
      ],
      "text/plain": [
       "  Registration Number                    Name  CGPA  Projects  \\\n",
       "0           20CSE0092          Ashley Esparza  8.66        10   \n",
       "1           20CSE0181          Jessica Jensen  6.35         3   \n",
       "2           20CSE0008  Miss Elizabeth Alvarez  6.32         5   \n",
       "3           20EEE0190        Amanda Alexander  7.32         4   \n",
       "4           20CSE0003        Douglas Gonzalez  8.57         6   \n",
       "\n",
       "                                     Internships  \\\n",
       "0                                  ['UI Design']   \n",
       "1  ['UI Design', 'ML/AI', 'Business Management']   \n",
       "2                    ['Cloud Engineer', 'ML/AI']   \n",
       "3                                ['Chip Design']   \n",
       "4         ['System Design', 'Hardware Engineer']   \n",
       "\n",
       "                                             Courses  No_of_Certs  \\\n",
       "0  ['CSC Frontend', 'CSC Frontend', 'VLSI', 'Clou...            4   \n",
       "1                  ['CSC Frontend', 'System Design']            2   \n",
       "2                  ['Cloud Engineer', 'Chip Design']            2   \n",
       "3                     ['Chip Design', 'ML Engineer']            2   \n",
       "4  ['Cloud Engineer', 'System Design', 'ML Engine...            3   \n",
       "\n",
       "   Certifications  LeetCode Score Placement Status Company Portfolio  \\\n",
       "0               4             234       Not Placed               NaN   \n",
       "1               5              23       Not Placed               NaN   \n",
       "2               2             487           Placed             DREAM   \n",
       "3               2              63       Not Placed               NaN   \n",
       "4               9              36           Placed             DREAM   \n",
       "\n",
       "   10th Grade Percentage  12th Grade Percentage       CTC   IQ  Gender  \\\n",
       "0                     77                     82     6 LPA   82  Female   \n",
       "1                     97                     63  1 CR LPA  104  Female   \n",
       "2                     64                     76    30 LPA  138    Male   \n",
       "3                     67                     74    20 LPA  134  Female   \n",
       "4                     86                     98    60 LPA  101  Female   \n",
       "\n",
       "                                              Skills  Skill Score  \n",
       "0  ['Java', 'Machine Learning', 'Web Development'...            4  \n",
       "1  ['Web Development', 'Database Management', 'Co...           10  \n",
       "2  ['Database Management', 'Web Development', 'Py...            6  \n",
       "3                               ['Machine Learning']            4  \n",
       "4  ['Web Development', 'Machine Learning', 'Python']            4  "
      ]
     },
     "execution_count": 87,
     "metadata": {},
     "output_type": "execute_result"
    }
   ],
   "source": [
    "# Load the dataset\n",
    "data = pd.read_csv('./all_students_data.csv')\n",
    "data.head()"
   ]
  },
  {
   "cell_type": "code",
   "execution_count": 88,
   "metadata": {},
   "outputs": [],
   "source": [
    "# Sample input data\n",
    "data['Internships'] = data['Internships'].apply(eval)  # Convert string representation to list of dictionaries\n",
    "\n",
    "# Preprocess 'Internships' column to extract roles or positions and assign unique values\n",
    "roles_dict = {}\n",
    "next_value = 1"
   ]
  },
  {
   "cell_type": "code",
   "execution_count": 89,
   "metadata": {},
   "outputs": [],
   "source": [
    "role_weights = {\n",
    "    'Software Engineer': 1.2,\n",
    "    'Hardware Engineer': 1.5,\n",
    "    'UI Design': 0.8,\n",
    "    'Robotics': 1.3,\n",
    "    'Business Management': 0.9,\n",
    "    'ML/AI': 2.0,\n",
    "    'Cloud Engineer': 1.7,\n",
    "    'System Design': 1.4\n",
    "}"
   ]
  },
  {
   "cell_type": "code",
   "execution_count": 90,
   "metadata": {},
   "outputs": [],
   "source": [
    "stream_weights = {\n",
    "    'CSC Frontend': 1.2,\n",
    "    'CSC Backend': 1.5,\n",
    "    'VLSI': 2.3,\n",
    "    'Chip Design': 1.5,\n",
    "    'ML Engineer': 1.8,\n",
    "    'Cloud Engineer': 1.7,\n",
    "    'System Design': 2.4\n",
    "}\n"
   ]
  },
  {
   "cell_type": "code",
   "execution_count": 91,
   "metadata": {},
   "outputs": [],
   "source": [
    "skill_weights = {\n",
    "    'Python': 1.5,\n",
    "    'Java': 1.2,\n",
    "    'C++': 1.0,\n",
    "    'Data Analysis': 1.8,\n",
    "    'Machine Learning': 2.0,\n",
    "    'Web Development': 1.5,\n",
    "    'Database Management': 1.2,\n",
    "    'Communication': 1.2\n",
    "}"
   ]
  },
  {
   "cell_type": "code",
   "execution_count": 92,
   "metadata": {},
   "outputs": [],
   "source": [
    "def calculate_intern_weights(internships):\n",
    "    if isinstance(internships, str):  # Check if internships is a string\n",
    "        internships = [internships]  # Convert string to list with a single element\n",
    "    total_weight = sum(role_weights.get(role, 0) for role in internships)\n",
    "    return total_weight\n",
    "\n",
    "# Calculate intern weights for each row\n",
    "data['InternWeights'] = data['Internships'].apply(calculate_intern_weights)"
   ]
  },
  {
   "cell_type": "code",
   "execution_count": 93,
   "metadata": {},
   "outputs": [],
   "source": [
    "def calculate_skill_score(skills):\n",
    "    if isinstance(skills, str):  # Check if skills is a string\n",
    "        skills = ast.literal_eval(skills)  # Convert string to list\n",
    "    total_weight = sum(skill_weights.get(skill, 0) for skill in skills)\n",
    "    return total_weight\n",
    "\n",
    "# Calculate skill score for each row\n",
    "data['Skill Score'] = data['Skills'].apply(calculate_skill_score)"
   ]
  },
  {
   "cell_type": "code",
   "execution_count": 94,
   "metadata": {},
   "outputs": [],
   "source": [
    "def calculate_course_weights(courses):\n",
    "    if isinstance(courses, str):  # Check if courses is a string\n",
    "        courses = ast.literal_eval(courses)  # Convert string to list\n",
    "    total_weight = sum(stream_weights.get(stream, 0) for stream in courses)\n",
    "    return total_weight\n",
    "\n",
    "\n",
    "\n",
    "# Calculate course weights for each row\n",
    "data['CourseWeights'] = data['Courses'].apply(calculate_course_weights)"
   ]
  },
  {
   "cell_type": "code",
   "execution_count": 95,
   "metadata": {},
   "outputs": [],
   "source": [
    "# Map 'Male' to 0 and 'Female' to 1\n",
    "data['Gender'] = data['Gender'].map({'Male': 0, 'Female': 1})\n",
    "#print(data.columns)\n",
    "\n"
   ]
  },
  {
   "cell_type": "code",
   "execution_count": 96,
   "metadata": {},
   "outputs": [
    {
     "name": "stdout",
     "output_type": "stream",
     "text": [
      "0      0.8\n",
      "1      3.7\n",
      "2      3.7\n",
      "3      0.0\n",
      "4      2.9\n",
      "      ... \n",
      "994    4.0\n",
      "995    1.3\n",
      "996    4.1\n",
      "997    0.0\n",
      "998    2.5\n",
      "Name: InternWeights, Length: 999, dtype: float64\n"
     ]
    }
   ],
   "source": [
    "print(data['InternWeights'])"
   ]
  },
  {
   "cell_type": "code",
   "execution_count": 97,
   "metadata": {},
   "outputs": [
    {
     "name": "stdout",
     "output_type": "stream",
     "text": [
      "0      6.4\n",
      "1      3.6\n",
      "2      3.2\n",
      "3      3.3\n",
      "4      5.9\n",
      "      ... \n",
      "994    7.1\n",
      "995    4.7\n",
      "996    3.8\n",
      "997    2.7\n",
      "998    5.8\n",
      "Name: CourseWeights, Length: 999, dtype: float64\n"
     ]
    }
   ],
   "source": [
    "\n",
    "# Display the DataFrame with the added CourseWeights column\n",
    "print(data['CourseWeights'])"
   ]
  },
  {
   "cell_type": "code",
   "execution_count": 98,
   "metadata": {},
   "outputs": [
    {
     "name": "stdout",
     "output_type": "stream",
     "text": [
      "0      7.7\n",
      "1      3.9\n",
      "2      6.4\n",
      "3      2.0\n",
      "4      5.0\n",
      "      ... \n",
      "994    5.0\n",
      "995    6.1\n",
      "996    1.5\n",
      "997    6.9\n",
      "998    3.7\n",
      "Name: Skill Score, Length: 999, dtype: float64\n"
     ]
    }
   ],
   "source": [
    "print(data['Skill Score'])"
   ]
  },
  {
   "cell_type": "code",
   "execution_count": 99,
   "metadata": {},
   "outputs": [
    {
     "name": "stdout",
     "output_type": "stream",
     "text": [
      "    Registration Number                    Name  CGPA  Projects  \\\n",
      "0             20CSE0092          Ashley Esparza  8.66        10   \n",
      "1             20CSE0181          Jessica Jensen  6.35         3   \n",
      "2             20CSE0008  Miss Elizabeth Alvarez  6.32         5   \n",
      "3             20EEE0190        Amanda Alexander  7.32         4   \n",
      "4             20CSE0003        Douglas Gonzalez  8.57         6   \n",
      "..                  ...                     ...   ...       ...   \n",
      "994           20EEE0305        Robert Mccormick  8.97         5   \n",
      "995           20EEE0183           Stacy Shelton  8.61         2   \n",
      "996           20ECE0275          Brittany Woods  9.76        10   \n",
      "997           20CSE0163          Janice Walters  9.10         5   \n",
      "998           20EEE0270             Laura Smith  7.01         8   \n",
      "\n",
      "                                           Internships  \\\n",
      "0                                          [UI Design]   \n",
      "1              [UI Design, ML/AI, Business Management]   \n",
      "2                              [Cloud Engineer, ML/AI]   \n",
      "3                                        [Chip Design]   \n",
      "4                   [System Design, Hardware Engineer]   \n",
      "..                                                 ...   \n",
      "994   [Software Engineer, Robotics, Hardware Engineer]   \n",
      "995                                         [Robotics]   \n",
      "996  [Software Engineer, Hardware Engineer, System ...   \n",
      "997                                      [Chip Design]   \n",
      "998                      [Robotics, Software Engineer]   \n",
      "\n",
      "                                               Courses  No_of_Certs  \\\n",
      "0    ['CSC Frontend', 'CSC Frontend', 'VLSI', 'Clou...            4   \n",
      "1                    ['CSC Frontend', 'System Design']            2   \n",
      "2                    ['Cloud Engineer', 'Chip Design']            2   \n",
      "3                       ['Chip Design', 'ML Engineer']            2   \n",
      "4    ['Cloud Engineer', 'System Design', 'ML Engine...            3   \n",
      "..                                                 ...          ...   \n",
      "994         ['System Design', 'VLSI', 'System Design']            3   \n",
      "995   ['Cloud Engineer', 'Chip Design', 'Chip Design']            3   \n",
      "996                            ['VLSI', 'Chip Design']            2   \n",
      "997                    ['CSC Frontend', 'Chip Design']            2   \n",
      "998  ['Cloud Engineer', 'Cloud Engineer', 'System D...            3   \n",
      "\n",
      "     Certifications  LeetCode Score  Placement Status Company Portfolio  \\\n",
      "0                 4             234                 0               NaN   \n",
      "1                 5              23                 0               NaN   \n",
      "2                 2             487                 1             DREAM   \n",
      "3                 2              63                 0               NaN   \n",
      "4                 9              36                 1             DREAM   \n",
      "..              ...             ...               ...               ...   \n",
      "994               0             162                 0               NaN   \n",
      "995               3             390                 1             DREAM   \n",
      "996              10             323                 0               NaN   \n",
      "997               9             325                 0               NaN   \n",
      "998               5             148                 0               NaN   \n",
      "\n",
      "     10th Grade Percentage  12th Grade Percentage       CTC   IQ  Gender  \\\n",
      "0                       77                     82     6 LPA   82       1   \n",
      "1                       97                     63  1 CR LPA  104       1   \n",
      "2                       64                     76    30 LPA  138       0   \n",
      "3                       67                     74    20 LPA  134       1   \n",
      "4                       86                     98    60 LPA  101       1   \n",
      "..                     ...                    ...       ...  ...     ...   \n",
      "994                     98                     82    20 LPA  135       0   \n",
      "995                     78                     69    60 LPA  143       0   \n",
      "996                     95                     72    60 LPA   98       0   \n",
      "997                     79                     89    70 LPA  100       1   \n",
      "998                     66                     83    20 LPA  107       0   \n",
      "\n",
      "                                                Skills  Skill Score  \\\n",
      "0    ['Java', 'Machine Learning', 'Web Development'...          7.7   \n",
      "1    ['Web Development', 'Database Management', 'Co...          3.9   \n",
      "2    ['Database Management', 'Web Development', 'Py...          6.4   \n",
      "3                                 ['Machine Learning']          2.0   \n",
      "4    ['Web Development', 'Machine Learning', 'Python']          5.0   \n",
      "..                                                 ...          ...   \n",
      "994      ['Data Analysis', 'Java', 'Machine Learning']          5.0   \n",
      "995  ['C++', 'Python', 'Java', 'Database Management...          6.1   \n",
      "996                                ['Web Development']          1.5   \n",
      "997  ['Java', 'Web Development', 'Communication', '...          6.9   \n",
      "998  ['C++', 'Database Management', 'Web Development']          3.7   \n",
      "\n",
      "     InternWeights  CourseWeights  \n",
      "0              0.8            6.4  \n",
      "1              3.7            3.6  \n",
      "2              3.7            3.2  \n",
      "3              0.0            3.3  \n",
      "4              2.9            5.9  \n",
      "..             ...            ...  \n",
      "994            4.0            7.1  \n",
      "995            1.3            4.7  \n",
      "996            4.1            3.8  \n",
      "997            0.0            2.7  \n",
      "998            2.5            5.8  \n",
      "\n",
      "[999 rows x 20 columns]\n"
     ]
    }
   ],
   "source": [
    "# Map 'Placed' to 1 and 'Not Placed' to 0\n",
    "data['Placement Status'] = data['Placement Status'].map({'Placed': 1, 'Not Placed': 0})\n",
    "\n",
    "# Display the DataFrame with the updated 'Placement Status' column\n",
    "print(data)\n"
   ]
  },
  {
   "cell_type": "code",
   "execution_count": 100,
   "metadata": {},
   "outputs": [],
   "source": [
    "features = ['CGPA', 'LeetCode Score', 'Projects', 'Certifications', 'No_of_Certs', \n",
    "            '10th Grade Percentage', '12th Grade Percentage', 'InternWeights', 'CourseWeights', 'IQ', 'Gender', 'Skill Score']\n",
    "target = 'Placement Status'\n",
    "X = data[features]\n",
    "y = data[target]"
   ]
  },
  {
   "cell_type": "code",
   "execution_count": 101,
   "metadata": {},
   "outputs": [],
   "source": [
    "X_train, X_test, y_train, y_test = train_test_split(X, y, test_size=0.2, random_state=42)"
   ]
  },
  {
   "cell_type": "code",
   "execution_count": 102,
   "metadata": {},
   "outputs": [],
   "source": [
    "# Initialize classifiers\n",
    "rf_classifier = RandomForestClassifier(random_state=42)\n",
    "xgb_classifier = XGBClassifier(random_state=42)\n",
    "\n",
    "# Fine-tuning RandomForestClassifier\n",
    "rf_param_grid = {\n",
    "    'n_estimators': [50, 100, 150],\n",
    "    'max_depth': [None, 10, 20, 30],\n",
    "    'min_samples_split': [2, 5, 10],\n",
    "    'min_samples_leaf': [1, 2, 4]\n",
    "}"
   ]
  },
  {
   "cell_type": "code",
   "execution_count": 103,
   "metadata": {},
   "outputs": [],
   "source": [
    "rf_grid_search = GridSearchCV(estimator=rf_classifier, param_grid=rf_param_grid, cv=5)\n",
    "rf_grid_search.fit(X_train, y_train)\n",
    "\n",
    "# Fine-tuning XGBClassifier\n",
    "xgb_param_grid = {\n",
    "    'n_estimators': [50, 100, 150],\n",
    "    'max_depth': [3, 4, 5],\n",
    "    'learning_rate': [0.05, 0.1, 0.2],\n",
    "    'subsample': [0.8, 0.9, 1.0],\n",
    "    'colsample_bytree': [0.8, 0.9, 1.0]\n",
    "}"
   ]
  },
  {
   "cell_type": "code",
   "execution_count": 104,
   "metadata": {},
   "outputs": [
    {
     "name": "stdout",
     "output_type": "stream",
     "text": [
      "Best parameters for RandomForestClassifier: {'max_depth': None, 'min_samples_leaf': 2, 'min_samples_split': 10, 'n_estimators': 150}\n",
      "Best parameters for XGBClassifier: {'colsample_bytree': 0.9, 'learning_rate': 0.05, 'max_depth': 3, 'n_estimators': 50, 'subsample': 0.9}\n"
     ]
    }
   ],
   "source": [
    "\n",
    "xgb_grid_search = GridSearchCV(estimator=xgb_classifier, param_grid=xgb_param_grid, cv=5)\n",
    "xgb_grid_search.fit(X_train, y_train)\n",
    "\n",
    "# Best parameters for RandomForestClassifier and XGBClassifier\n",
    "print(\"Best parameters for RandomForestClassifier:\", rf_grid_search.best_params_)\n",
    "print(\"Best parameters for XGBClassifier:\", xgb_grid_search.best_params_)"
   ]
  },
  {
   "cell_type": "code",
   "execution_count": 105,
   "metadata": {},
   "outputs": [],
   "source": [
    "dt_classifier = DecisionTreeClassifier()"
   ]
  },
  {
   "cell_type": "code",
   "execution_count": 106,
   "metadata": {},
   "outputs": [],
   "source": [
    " #Create ensemble model using VotingClassifier with fine-tuned parameters\n",
    "ensemble_model = VotingClassifier(\n",
    "    estimators=[\n",
    "        ('rf', rf_classifier),\n",
    "        ('xgb', xgb_classifier), \n",
    "    ],\n",
    "    voting='soft'  # Soft voting for probabilities averaging\n",
    ")\n"
   ]
  },
  {
   "cell_type": "code",
   "execution_count": 107,
   "metadata": {},
   "outputs": [
    {
     "name": "stdout",
     "output_type": "stream",
     "text": [
      "Ensemble Model Accuracy: 0.64\n"
     ]
    }
   ],
   "source": [
    "# Train ensemble model\n",
    "ensemble_model.fit(X_train, y_train)\n",
    "\n",
    "# Predict using ensemble model\n",
    "ensemble_predictions = ensemble_model.predict(X_test)\n",
    "\n",
    "# Evaluate model performance\n",
    "accuracy = accuracy_score(y_test, ensemble_predictions)\n",
    "print(f\"Ensemble Model Accuracy: {accuracy}\")"
   ]
  },
  {
   "cell_type": "code",
   "execution_count": 118,
   "metadata": {},
   "outputs": [
    {
     "name": "stdout",
     "output_type": "stream",
     "text": [
      "Predicted Placement Status for Test Data: [1]\n",
      "Skill Improvement Suggestions: ['Improve your skills: ML', 'Learn Python', 'Learn Java']\n",
      "Likelihood of Placement: Regular\n",
      "Suggested Companies: ['IBM', 'CodeVault', 'Volvo']\n"
     ]
    }
   ],
   "source": [
    "\n",
    "\n",
    "# Sample test data with modified values\n",
    "test_data = {\n",
    "    'Registration Number': ['20MID0135'],\n",
    "    'Name': ['Varun Babu'],\n",
    "    'CGPA': [6.1],\n",
    "    'Projects': [5],\n",
    "    'Internships': [['UI Design','Cloud Engineer']],  \n",
    "    'Courses': [['CSC Frontend', 'Cloud Engineer','ML Engineer']],  \n",
    "    'No_of_Certs': [2],\n",
    "    'Certifications': [4],\n",
    "    'LeetCode Score': [234],\n",
    "    '10th Grade Percentage': [97],\n",
    "    '12th Grade Percentage': [92],\n",
    "    'IQ': [95],  \n",
    "    'Gender': [1],\n",
    "    'Skills': [['Data Analysis']],\n",
    "    'Skill Score': [5]\n",
    "}\n",
    "\n",
    "# Convert test data to DataFrame\n",
    "test_df = pd.DataFrame(test_data)\n",
    "\n",
    "# Calculate InternWeights, CourseWeights, and Skill Score for test data\n",
    "test_df['InternWeights'] = test_df['Internships'].apply(calculate_intern_weights)\n",
    "test_df['CourseWeights'] = test_df['Courses'].apply(calculate_course_weights)\n",
    "test_df['SkillScore'] = test_df['Skills'].apply(calculate_skill_score)\n",
    "\n",
    "# Display test DataFrame\n",
    "#print(test_df)\n",
    "\n",
    "# Define function to suggest skill improvements\n",
    "def suggest_skill_improvements(skill_score):\n",
    "    suggestions = []\n",
    "    if skill_score <= 2:\n",
    "        suggestions.append(\"Improve your skills: ML\")\n",
    "    if 'Python' not in test_data['Skills'][0]:\n",
    "        suggestions.append(\"Learn Python\")\n",
    "    if 'Java' not in test_data['Skills'][0]:\n",
    "        suggestions.append(\"Learn Java\")\n",
    "    return suggestions\n",
    "\n",
    "# Define function to determine likelihood of placement\n",
    "def likelihood_of_placement(skill_score):\n",
    "    if skill_score <= 2:\n",
    "        return \"Regular\"\n",
    "    elif skill_score <= 4:\n",
    "        return \"Dream\"\n",
    "    else:\n",
    "        return \"Super Dream\"\n",
    "\n",
    "# Function to suggest companies based on likelihood of placement\n",
    "def suggest_companies(placement_likelihood):\n",
    "    if placement_likelihood == \"Regular\":\n",
    "        return [\"IBM\", \"CodeVault\", \"Volvo\"]\n",
    "    elif placement_likelihood == \"Dream\":\n",
    "        return [\"Altair\", \"ALE\", \"Intel\", \"Zomato\"]\n",
    "    else:\n",
    "        return [\"AMD\", \"Marvell\", \"JP Morgan\", \"Uber\"]\n",
    "\n",
    "# Extract features for prediction\n",
    "features = ['CGPA', 'LeetCode Score', 'Projects', 'Certifications', 'No_of_Certs', \n",
    "            '10th Grade Percentage', '12th Grade Percentage', 'InternWeights', \n",
    "            'CourseWeights', 'IQ', 'Gender', 'Skill Score']\n",
    "test_features = test_df[features]\n",
    "\n",
    "# Predict placement status for test data\n",
    "test_predictions = ensemble_model.predict(test_features)\n",
    "\n",
    "if test_predictions == 0:\n",
    "    print(\"Better luck next time!\")\n",
    "else:\n",
    "    print(\"Predicted Placement Status for Test Data:\", test_predictions)\n",
    "    # Calculate skill score for test data\n",
    "    test_skill_score = test_df['SkillScore'].iloc[0]\n",
    "\n",
    "    # Suggest skill improvements\n",
    "    print(\"Skill Improvement Suggestions:\", suggest_skill_improvements(test_skill_score))\n",
    "\n",
    "    # Determine likelihood of placement\n",
    "    placement_likelihood = likelihood_of_placement(test_skill_score)\n",
    "    print(\"Likelihood of Placement:\", placement_likelihood)\n",
    "\n",
    "    # Suggest companies based on likelihood of placement\n",
    "    print(\"Suggested Companies:\", suggest_companies(placement_likelihood))\n"
   ]
  },
  {
   "cell_type": "code",
   "execution_count": 110,
   "metadata": {},
   "outputs": [
    {
     "data": {
      "text/plain": [
       "['model.pkl']"
      ]
     },
     "execution_count": 110,
     "metadata": {},
     "output_type": "execute_result"
    }
   ],
   "source": [
    "import joblib\n",
    "\n",
    "joblib.dump(ensemble_model, 'model.pkl')"
   ]
  },
  {
   "cell_type": "code",
   "execution_count": null,
   "metadata": {},
   "outputs": [],
   "source": []
  },
  {
   "cell_type": "code",
   "execution_count": null,
   "metadata": {},
   "outputs": [],
   "source": [
    "\n",
    "\n"
   ]
  }
 ],
 "metadata": {
  "kernelspec": {
   "display_name": "Python 3",
   "language": "python",
   "name": "python3"
  },
  "language_info": {
   "codemirror_mode": {
    "name": "ipython",
    "version": 3
   },
   "file_extension": ".py",
   "mimetype": "text/x-python",
   "name": "python",
   "nbconvert_exporter": "python",
   "pygments_lexer": "ipython3",
   "version": "3.12.3"
  }
 },
 "nbformat": 4,
 "nbformat_minor": 2
}
